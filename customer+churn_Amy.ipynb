{
 "cells": [
  {
   "cell_type": "code",
   "execution_count": 196,
   "metadata": {
    "collapsed": true
   },
   "outputs": [],
   "source": [
    "import csv\n",
    "import numpy as np\n",
    "import pandas as pd\n",
    "import scipy\n",
    "import matplotlib.pyplot as plt"
   ]
  },
  {
   "cell_type": "code",
   "execution_count": 197,
   "metadata": {},
   "outputs": [],
   "source": [
    "df = pd.read_csv(\"C:/Users/Amy Le - PC/Documents/WA_Fn-UseC_-Telco-Customer-Churn.csv\", low_memory = False)\n",
    "df = df.replace(\" \", np.NaN)\n",
    "###The telecom dataset is collected from IBM Watson Analytics \"https://www.ibm.com/communities/analytics/watson-analytics-blog/guide-to-sample-datasets/\"\n"
   ]
  },
  {
   "cell_type": "code",
   "execution_count": 198,
   "metadata": {},
   "outputs": [
    {
     "name": "stdout",
     "output_type": "stream",
     "text": [
      "(7043, 21)\n",
      "   customerID  gender  SeniorCitizen Partner Dependents  tenure PhoneService  \\\n",
      "0  7590-VHVEG  Female              0     Yes         No       1           No   \n",
      "1  5575-GNVDE    Male              0      No         No      34          Yes   \n",
      "2  3668-QPYBK    Male              0      No         No       2          Yes   \n",
      "3  7795-CFOCW    Male              0      No         No      45           No   \n",
      "4  9237-HQITU  Female              0      No         No       2          Yes   \n",
      "\n",
      "      MultipleLines InternetService OnlineSecurity  ...  DeviceProtection  \\\n",
      "0  No phone service             DSL             No  ...                No   \n",
      "1                No             DSL            Yes  ...               Yes   \n",
      "2                No             DSL            Yes  ...                No   \n",
      "3  No phone service             DSL            Yes  ...               Yes   \n",
      "4                No     Fiber optic             No  ...                No   \n",
      "\n",
      "  TechSupport StreamingTV StreamingMovies        Contract PaperlessBilling  \\\n",
      "0          No          No              No  Month-to-month              Yes   \n",
      "1          No          No              No        One year               No   \n",
      "2          No          No              No  Month-to-month              Yes   \n",
      "3         Yes          No              No        One year               No   \n",
      "4          No          No              No  Month-to-month              Yes   \n",
      "\n",
      "               PaymentMethod MonthlyCharges  TotalCharges Churn  \n",
      "0           Electronic check          29.85         29.85    No  \n",
      "1               Mailed check          56.95        1889.5    No  \n",
      "2               Mailed check          53.85        108.15   Yes  \n",
      "3  Bank transfer (automatic)          42.30       1840.75    No  \n",
      "4           Electronic check          70.70        151.65   Yes  \n",
      "\n",
      "[5 rows x 21 columns]\n"
     ]
    }
   ],
   "source": [
    "print(df.shape)\n",
    "top = df.head(5)\n",
    "print(top)\n",
    "### The dataset has 21 attributes and 7043 instances(customers)\n",
    "### Churn (yes, no) is the target feature"
   ]
  },
  {
   "cell_type": "markdown",
   "metadata": {},
   "source": [
    "Data Preprocessing\n"
   ]
  },
  {
   "cell_type": "code",
   "execution_count": 199,
   "metadata": {},
   "outputs": [
    {
     "data": {
      "text/plain": [
       "customerID           0\n",
       "gender               0\n",
       "SeniorCitizen        0\n",
       "Partner              0\n",
       "Dependents           0\n",
       "tenure               0\n",
       "PhoneService         0\n",
       "MultipleLines        0\n",
       "InternetService      0\n",
       "OnlineSecurity       0\n",
       "OnlineBackup         0\n",
       "DeviceProtection     0\n",
       "TechSupport          0\n",
       "StreamingTV          0\n",
       "StreamingMovies      0\n",
       "Contract             0\n",
       "PaperlessBilling     0\n",
       "PaymentMethod        0\n",
       "MonthlyCharges       0\n",
       "TotalCharges        11\n",
       "Churn                0\n",
       "dtype: int64"
      ]
     },
     "execution_count": 199,
     "metadata": {},
     "output_type": "execute_result"
    }
   ],
   "source": [
    "df.isnull().sum()\n",
    "### Checking missing values-> there are 11 missing values in “TotalCharges” column."
   ]
  },
  {
   "cell_type": "code",
   "execution_count": 200,
   "metadata": {
    "collapsed": true
   },
   "outputs": [],
   "source": [
    "df.dropna(inplace=True) #remove all rows with missing values"
   ]
  },
  {
   "cell_type": "code",
   "execution_count": 201,
   "metadata": {},
   "outputs": [
    {
     "data": {
      "text/html": [
       "<div>\n",
       "<style>\n",
       "    .dataframe thead tr:only-child th {\n",
       "        text-align: right;\n",
       "    }\n",
       "\n",
       "    .dataframe thead th {\n",
       "        text-align: left;\n",
       "    }\n",
       "\n",
       "    .dataframe tbody tr th {\n",
       "        vertical-align: top;\n",
       "    }\n",
       "</style>\n",
       "<table border=\"1\" class=\"dataframe\">\n",
       "  <thead>\n",
       "    <tr style=\"text-align: right;\">\n",
       "      <th></th>\n",
       "      <th>gender</th>\n",
       "      <th>SeniorCitizen</th>\n",
       "      <th>Partner</th>\n",
       "      <th>Dependents</th>\n",
       "      <th>tenure</th>\n",
       "      <th>PhoneService</th>\n",
       "      <th>MultipleLines</th>\n",
       "      <th>InternetService</th>\n",
       "      <th>OnlineSecurity</th>\n",
       "      <th>OnlineBackup</th>\n",
       "      <th>DeviceProtection</th>\n",
       "      <th>TechSupport</th>\n",
       "      <th>StreamingTV</th>\n",
       "      <th>StreamingMovies</th>\n",
       "      <th>Contract</th>\n",
       "      <th>PaperlessBilling</th>\n",
       "      <th>PaymentMethod</th>\n",
       "      <th>MonthlyCharges</th>\n",
       "      <th>TotalCharges</th>\n",
       "      <th>Churn</th>\n",
       "    </tr>\n",
       "  </thead>\n",
       "  <tbody>\n",
       "    <tr>\n",
       "      <th>0</th>\n",
       "      <td>0</td>\n",
       "      <td>0</td>\n",
       "      <td>1</td>\n",
       "      <td>0</td>\n",
       "      <td>1</td>\n",
       "      <td>0</td>\n",
       "      <td>0</td>\n",
       "      <td>0</td>\n",
       "      <td>0</td>\n",
       "      <td>1</td>\n",
       "      <td>0</td>\n",
       "      <td>0</td>\n",
       "      <td>0</td>\n",
       "      <td>0</td>\n",
       "      <td>0</td>\n",
       "      <td>1</td>\n",
       "      <td>2</td>\n",
       "      <td>29.85</td>\n",
       "      <td>29.85</td>\n",
       "      <td>0</td>\n",
       "    </tr>\n",
       "    <tr>\n",
       "      <th>1</th>\n",
       "      <td>1</td>\n",
       "      <td>0</td>\n",
       "      <td>0</td>\n",
       "      <td>0</td>\n",
       "      <td>34</td>\n",
       "      <td>1</td>\n",
       "      <td>0</td>\n",
       "      <td>0</td>\n",
       "      <td>1</td>\n",
       "      <td>0</td>\n",
       "      <td>1</td>\n",
       "      <td>0</td>\n",
       "      <td>0</td>\n",
       "      <td>0</td>\n",
       "      <td>1</td>\n",
       "      <td>0</td>\n",
       "      <td>3</td>\n",
       "      <td>56.95</td>\n",
       "      <td>1889.50</td>\n",
       "      <td>0</td>\n",
       "    </tr>\n",
       "    <tr>\n",
       "      <th>2</th>\n",
       "      <td>1</td>\n",
       "      <td>0</td>\n",
       "      <td>0</td>\n",
       "      <td>0</td>\n",
       "      <td>2</td>\n",
       "      <td>1</td>\n",
       "      <td>0</td>\n",
       "      <td>0</td>\n",
       "      <td>1</td>\n",
       "      <td>1</td>\n",
       "      <td>0</td>\n",
       "      <td>0</td>\n",
       "      <td>0</td>\n",
       "      <td>0</td>\n",
       "      <td>0</td>\n",
       "      <td>1</td>\n",
       "      <td>3</td>\n",
       "      <td>53.85</td>\n",
       "      <td>108.15</td>\n",
       "      <td>1</td>\n",
       "    </tr>\n",
       "    <tr>\n",
       "      <th>3</th>\n",
       "      <td>1</td>\n",
       "      <td>0</td>\n",
       "      <td>0</td>\n",
       "      <td>0</td>\n",
       "      <td>45</td>\n",
       "      <td>0</td>\n",
       "      <td>0</td>\n",
       "      <td>0</td>\n",
       "      <td>1</td>\n",
       "      <td>0</td>\n",
       "      <td>1</td>\n",
       "      <td>1</td>\n",
       "      <td>0</td>\n",
       "      <td>0</td>\n",
       "      <td>1</td>\n",
       "      <td>0</td>\n",
       "      <td>0</td>\n",
       "      <td>42.30</td>\n",
       "      <td>1840.75</td>\n",
       "      <td>0</td>\n",
       "    </tr>\n",
       "    <tr>\n",
       "      <th>4</th>\n",
       "      <td>0</td>\n",
       "      <td>0</td>\n",
       "      <td>0</td>\n",
       "      <td>0</td>\n",
       "      <td>2</td>\n",
       "      <td>1</td>\n",
       "      <td>0</td>\n",
       "      <td>1</td>\n",
       "      <td>0</td>\n",
       "      <td>0</td>\n",
       "      <td>0</td>\n",
       "      <td>0</td>\n",
       "      <td>0</td>\n",
       "      <td>0</td>\n",
       "      <td>0</td>\n",
       "      <td>1</td>\n",
       "      <td>2</td>\n",
       "      <td>70.70</td>\n",
       "      <td>151.65</td>\n",
       "      <td>1</td>\n",
       "    </tr>\n",
       "  </tbody>\n",
       "</table>\n",
       "</div>"
      ],
      "text/plain": [
       "   gender  SeniorCitizen  Partner  Dependents  tenure  PhoneService  \\\n",
       "0       0              0        1           0       1             0   \n",
       "1       1              0        0           0      34             1   \n",
       "2       1              0        0           0       2             1   \n",
       "3       1              0        0           0      45             0   \n",
       "4       0              0        0           0       2             1   \n",
       "\n",
       "   MultipleLines  InternetService  OnlineSecurity  OnlineBackup  \\\n",
       "0              0                0               0             1   \n",
       "1              0                0               1             0   \n",
       "2              0                0               1             1   \n",
       "3              0                0               1             0   \n",
       "4              0                1               0             0   \n",
       "\n",
       "   DeviceProtection  TechSupport  StreamingTV  StreamingMovies  Contract  \\\n",
       "0                 0            0            0                0         0   \n",
       "1                 1            0            0                0         1   \n",
       "2                 0            0            0                0         0   \n",
       "3                 1            1            0                0         1   \n",
       "4                 0            0            0                0         0   \n",
       "\n",
       "   PaperlessBilling  PaymentMethod  MonthlyCharges  TotalCharges  Churn  \n",
       "0                 1              2           29.85         29.85      0  \n",
       "1                 0              3           56.95       1889.50      0  \n",
       "2                 1              3           53.85        108.15      1  \n",
       "3                 0              0           42.30       1840.75      0  \n",
       "4                 1              2           70.70        151.65      1  "
      ]
     },
     "execution_count": 201,
     "metadata": {},
     "output_type": "execute_result"
    }
   ],
   "source": [
    "### I assume that \"No internet service\" value is the same as \"No\" value for the following attributes: MultipleLines; \n",
    "#OnlineSecurity; OnlineBackup; DeviceProtection; TechSupport; StreamingTV; StreamingMovies\n",
    "### \"No phone service\" value is the same as \"No\" value for \"MultipleLine\" attribute\n",
    "\n",
    "df.replace(\"No internet service\", \"No\", inplace = True)\n",
    "df.replace(\"No phone service\", \"No\", inplace = True)\n",
    "\n",
    "### Change the value for 'SeniorCitizen' attribute\n",
    "replacements = {\n",
    "  1: 'Yes',\n",
    "  0: 'No'\n",
    "}\n",
    "df['SeniorCitizen'].replace(replacements, inplace=True)\n",
    "Y = df['Churn']\n",
    "X = df.drop(['customerID'], axis =1)\n",
    "\n",
    "types = X.dtypes\n",
    "\n",
    "X['TotalCharges'] = X['TotalCharges'].apply(pd.to_numeric) # Convert to numeric type\n",
    "###Creating a list of categorical features\n",
    "cat_col = X.select_dtypes(exclude=[np.number]).columns.tolist()\n",
    "\n",
    "### For every column, if categorical, convert to label encoding\n",
    "for i in X.columns:\n",
    "    if i in cat_col:\n",
    "        X[i] = X[i].astype('category').cat.codes\n",
    "X.head()\n",
    "\n"
   ]
  },
  {
   "cell_type": "markdown",
   "metadata": {},
   "source": [
    "Model Building"
   ]
  },
  {
   "cell_type": "code",
   "execution_count": 202,
   "metadata": {},
   "outputs": [
    {
     "name": "stdout",
     "output_type": "stream",
     "text": [
      "                    gender  SeniorCitizen   Partner  Dependents    tenure  \\\n",
      "gender            1.000000      -0.001819 -0.001379    0.010349  0.005285   \n",
      "SeniorCitizen    -0.001819       1.000000  0.016957   -0.210550  0.015683   \n",
      "Partner          -0.001379       0.016957  1.000000    0.452269  0.381912   \n",
      "Dependents        0.010349      -0.210550  0.452269    1.000000  0.163386   \n",
      "tenure            0.005285       0.015683  0.381912    0.163386  1.000000   \n",
      "PhoneService     -0.007515       0.008392  0.018397   -0.001078  0.007877   \n",
      "MultipleLines    -0.008883       0.142996  0.142561   -0.024307  0.332399   \n",
      "InternetService  -0.002236      -0.032160  0.000513    0.044030 -0.029835   \n",
      "OnlineSecurity   -0.016328      -0.038576  0.143346    0.080786  0.328297   \n",
      "OnlineBackup     -0.013093       0.066663  0.141849    0.023639  0.361138   \n",
      "DeviceProtection -0.000807       0.059514  0.153556    0.013900  0.361520   \n",
      "TechSupport      -0.008507      -0.060577  0.120206    0.063053  0.325288   \n",
      "StreamingTV      -0.007124       0.105445  0.124483   -0.016499  0.280264   \n",
      "StreamingMovies  -0.010105       0.119842  0.118108   -0.038375  0.285402   \n",
      "Contract          0.000095      -0.141820  0.294094    0.240556  0.676734   \n",
      "PaperlessBilling -0.011902       0.156258 -0.013957   -0.110131  0.004823   \n",
      "PaymentMethod     0.016942      -0.038158 -0.156232   -0.041989 -0.370087   \n",
      "MonthlyCharges   -0.013779       0.219874  0.097825   -0.112343  0.246862   \n",
      "TotalCharges      0.000048       0.102411  0.319072    0.064653  0.825880   \n",
      "Churn            -0.008545       0.150541 -0.149982   -0.163128 -0.354049   \n",
      "\n",
      "                  PhoneService  MultipleLines  InternetService  \\\n",
      "gender               -0.007515      -0.008883        -0.002236   \n",
      "SeniorCitizen         0.008392       0.142996        -0.032160   \n",
      "Partner               0.018397       0.142561         0.000513   \n",
      "Dependents           -0.001078      -0.024307         0.044030   \n",
      "tenure                0.007877       0.332399        -0.029835   \n",
      "PhoneService          1.000000       0.279530         0.387266   \n",
      "MultipleLines         0.279530       1.000000         0.011346   \n",
      "InternetService       0.387266       0.011346         1.000000   \n",
      "OnlineSecurity       -0.091676       0.098592        -0.392174   \n",
      "OnlineBackup         -0.052133       0.202228        -0.313708   \n",
      "DeviceProtection     -0.070076       0.201733        -0.305757   \n",
      "TechSupport          -0.095138       0.100421        -0.388535   \n",
      "StreamingTV          -0.021383       0.257804        -0.241330   \n",
      "StreamingMovies      -0.033477       0.259194        -0.250144   \n",
      "Contract              0.003019       0.107529         0.099579   \n",
      "PaperlessBilling      0.016696       0.163746        -0.138166   \n",
      "PaymentMethod        -0.005499      -0.171240         0.084504   \n",
      "MonthlyCharges        0.248033       0.490912        -0.322173   \n",
      "TotalCharges          0.113008       0.469042        -0.175691   \n",
      "Churn                 0.011691       0.040033        -0.047097   \n",
      "\n",
      "                  OnlineSecurity  OnlineBackup  DeviceProtection  TechSupport  \\\n",
      "gender                 -0.016328     -0.013093         -0.000807    -0.008507   \n",
      "SeniorCitizen          -0.038576      0.066663          0.059514    -0.060577   \n",
      "Partner                 0.143346      0.141849          0.153556     0.120206   \n",
      "Dependents              0.080786      0.023639          0.013900     0.063053   \n",
      "tenure                  0.328297      0.361138          0.361520     0.325288   \n",
      "PhoneService           -0.091676     -0.052133         -0.070076    -0.095138   \n",
      "MultipleLines           0.098592      0.202228          0.201733     0.100421   \n",
      "InternetService        -0.392174     -0.313708         -0.305757    -0.388535   \n",
      "OnlineSecurity          1.000000      0.283285          0.274875     0.354458   \n",
      "OnlineBackup            0.283285      1.000000          0.303058     0.293705   \n",
      "DeviceProtection        0.274875      0.303058          1.000000     0.332850   \n",
      "TechSupport             0.354458      0.293705          0.332850     1.000000   \n",
      "StreamingTV             0.175514      0.281601          0.389924     0.277549   \n",
      "StreamingMovies         0.187426      0.274523          0.402309     0.280155   \n",
      "Contract                0.245660      0.155262          0.219648     0.293967   \n",
      "PaperlessBilling       -0.004051      0.127056          0.104079     0.037536   \n",
      "PaymentMethod          -0.149112     -0.170720         -0.180931    -0.156296   \n",
      "MonthlyCharges          0.296447      0.441529          0.482607     0.338301   \n",
      "TotalCharges            0.412619      0.510100          0.522881     0.432868   \n",
      "Churn                  -0.171270     -0.082307         -0.066193    -0.164716   \n",
      "\n",
      "                  StreamingTV  StreamingMovies  Contract  PaperlessBilling  \\\n",
      "gender              -0.007124        -0.010105  0.000095         -0.011902   \n",
      "SeniorCitizen        0.105445         0.119842 -0.141820          0.156258   \n",
      "Partner              0.124483         0.118108  0.294094         -0.013957   \n",
      "Dependents          -0.016499        -0.038375  0.240556         -0.110131   \n",
      "tenure               0.280264         0.285402  0.676734          0.004823   \n",
      "PhoneService        -0.021383        -0.033477  0.003019          0.016696   \n",
      "MultipleLines        0.257804         0.259194  0.107529          0.163746   \n",
      "InternetService     -0.241330        -0.250144  0.099579         -0.138166   \n",
      "OnlineSecurity       0.175514         0.187426  0.245660         -0.004051   \n",
      "OnlineBackup         0.281601         0.274523  0.155262          0.127056   \n",
      "DeviceProtection     0.389924         0.402309  0.219648          0.104079   \n",
      "TechSupport          0.277549         0.280155  0.293967          0.037536   \n",
      "StreamingTV          1.000000         0.533380  0.104178          0.224241   \n",
      "StreamingMovies      0.533380         1.000000  0.109136          0.211583   \n",
      "Contract             0.104178         0.109136  1.000000         -0.175475   \n",
      "PaperlessBilling     0.224241         0.211583 -0.175475          1.000000   \n",
      "PaymentMethod       -0.148563        -0.154854 -0.229636         -0.061348   \n",
      "MonthlyCharges       0.629668         0.627235 -0.072739          0.351930   \n",
      "TotalCharges         0.515709         0.519867  0.450306          0.157830   \n",
      "Churn                0.063254         0.060860 -0.396150          0.191454   \n",
      "\n",
      "                  PaymentMethod  MonthlyCharges  TotalCharges     Churn  \n",
      "gender                 0.016942       -0.013779      0.000048 -0.008545  \n",
      "SeniorCitizen         -0.038158        0.219874      0.102411  0.150541  \n",
      "Partner               -0.156232        0.097825      0.319072 -0.149982  \n",
      "Dependents            -0.041989       -0.112343      0.064653 -0.163128  \n",
      "tenure                -0.370087        0.246862      0.825880 -0.354049  \n",
      "PhoneService          -0.005499        0.248033      0.113008  0.011691  \n",
      "MultipleLines         -0.171240        0.490912      0.469042  0.040033  \n",
      "InternetService        0.084504       -0.322173     -0.175691 -0.047097  \n",
      "OnlineSecurity        -0.149112        0.296447      0.412619 -0.171270  \n",
      "OnlineBackup          -0.170720        0.441529      0.510100 -0.082307  \n",
      "DeviceProtection      -0.180931        0.482607      0.522881 -0.066193  \n",
      "TechSupport           -0.156296        0.338301      0.432868 -0.164716  \n",
      "StreamingTV           -0.148563        0.629668      0.515709  0.063254  \n",
      "StreamingMovies       -0.154854        0.627235      0.519867  0.060860  \n",
      "Contract              -0.229636       -0.072739      0.450306 -0.396150  \n",
      "PaperlessBilling      -0.061348        0.351930      0.157830  0.191454  \n",
      "PaymentMethod          1.000000       -0.192500     -0.330594  0.107852  \n",
      "MonthlyCharges        -0.192500        1.000000      0.651065  0.192858  \n",
      "TotalCharges          -0.330594        0.651065      1.000000 -0.199484  \n",
      "Churn                  0.107852        0.192858     -0.199484  1.000000  \n"
     ]
    }
   ],
   "source": [
    "#Correlation Between attributes\n",
    "correlations = X.corr(method='pearson')\n",
    "print(correlations)\n",
    "### As we can see, 'TotalCharges' are correlated with both 'tenure' and 'MonthlyCharges', so I remove this attribute \n",
    "#from the model."
   ]
  },
  {
   "cell_type": "code",
   "execution_count": 203,
   "metadata": {
    "collapsed": true
   },
   "outputs": [],
   "source": [
    "X.drop(['TotalCharges'], axis =1, inplace = True)"
   ]
  },
  {
   "cell_type": "code",
   "execution_count": 204,
   "metadata": {},
   "outputs": [
    {
     "name": "stdout",
     "output_type": "stream",
     "text": [
      "Churn\n",
      "0    5163\n",
      "1    1869\n",
      "dtype: int64\n"
     ]
    }
   ],
   "source": [
    "#Class distribution\n",
    "class_counts = X.groupby('Churn').size()\n",
    "print(class_counts)\n",
    "\n",
    "#Outcome of this dataset is a majority of 'Churn ==0 (no)' class. Therefore, F1 score is more useful than accuracy score \n",
    "#as a metric for model evaluation. "
   ]
  },
  {
   "cell_type": "code",
   "execution_count": 205,
   "metadata": {
    "collapsed": true
   },
   "outputs": [],
   "source": [
    "X.drop(['Churn'], axis =1, inplace = True)"
   ]
  },
  {
   "cell_type": "markdown",
   "metadata": {},
   "source": [
    "Model Building\n",
    "\n",
    "Some supervised learning methods such as Logistics Regression, Random Tree, SVM, AdaBoost are applied to find the best model.\n"
   ]
  },
  {
   "cell_type": "code",
   "execution_count": 206,
   "metadata": {},
   "outputs": [],
   "source": [
    "from sklearn.model_selection import train_test_split\n",
    "from sklearn.linear_model import LogisticRegression\n",
    "from sklearn.ensemble import RandomForestClassifier\n",
    "from sklearn.svm import LinearSVC\n",
    "from sklearn import metrics\n",
    "\n",
    "X_train, X_test, y_train, y_test, indices_train, indices_test = train_test_split(X, Y, X.index, test_size=0.3, random_state=0)\n",
    "\n"
   ]
  },
  {
   "cell_type": "code",
   "execution_count": 207,
   "metadata": {},
   "outputs": [
    {
     "name": "stdout",
     "output_type": "stream",
     "text": [
      "             precision    recall  f1-score   support\n",
      "\n",
      "         No       0.93      0.56      0.70      1555\n",
      "        Yes       0.42      0.88      0.57       555\n",
      "\n",
      "avg / total       0.80      0.64      0.66      2110\n",
      "\n"
     ]
    }
   ],
   "source": [
    "# Suport Vector Machine classifier\n",
    "model1 = LinearSVC()\n",
    "# Train the supervised model on the training set using .fit(X_train, y_train)\n",
    "model1.fit(X_train, y_train)\n",
    "y_pred1 = model1.predict(X_test) #predicted class\n",
    "print(metrics.classification_report(y_test, y_pred1))\n",
    "\n",
    "### F1 score is 66%"
   ]
  },
  {
   "cell_type": "code",
   "execution_count": 208,
   "metadata": {},
   "outputs": [
    {
     "name": "stdout",
     "output_type": "stream",
     "text": [
      "             precision    recall  f1-score   support\n",
      "\n",
      "         No       0.82      0.90      0.86      1555\n",
      "        Yes       0.62      0.46      0.53       555\n",
      "\n",
      "avg / total       0.77      0.78      0.77      2110\n",
      "\n"
     ]
    }
   ],
   "source": [
    "#Random Forest classifier\n",
    "\n",
    "model2 = RandomForestClassifier(n_estimators=100, n_jobs=-1)\n",
    "# Train the supervised model on the training set using .fit(X_train, y_train)\n",
    "model2 = model2.fit(X_train, y_train)\n",
    "y_pred2 = model2.predict(X_test)\n",
    "print(metrics.classification_report(y_test, y_pred2))\n",
    "\n",
    "### F1 score is 77%\n"
   ]
  },
  {
   "cell_type": "code",
   "execution_count": 209,
   "metadata": {},
   "outputs": [
    {
     "name": "stdout",
     "output_type": "stream",
     "text": [
      "{'n_estimators': [10, 366, 722, 1079, 1435, 1792, 2148, 2505, 2861, 3217, 3574, 3930, 4287, 4643, 5000], 'max_features': ['auto', 'sqrt', 'log2'], 'max_depth': [2, 12, 23, 34, 45, 56, 67, 78, 89, 100, None], 'min_samples_split': [2, 5, 10], 'min_samples_leaf': [1, 2, 4], 'bootstrap': [True, False]}\n",
      "Fitting 3 folds for each of 10 candidates, totalling 30 fits\n"
     ]
    },
    {
     "name": "stderr",
     "output_type": "stream",
     "text": [
      "[Parallel(n_jobs=-1)]: Done  30 out of  30 | elapsed: 18.3min finished\n"
     ]
    },
    {
     "name": "stdout",
     "output_type": "stream",
     "text": [
      "             precision    recall  f1-score   support\n",
      "\n",
      "         No       0.83      0.91      0.87      1555\n",
      "        Yes       0.66      0.49      0.56       555\n",
      "\n",
      "avg / total       0.79      0.80      0.79      2110\n",
      "\n"
     ]
    }
   ],
   "source": [
    "###RandomForest Parameter Tuning\n",
    "\n",
    "# Number of trees in random forest\n",
    "n_estimators = [int(x) for x in np.linspace(start = 10, stop = 5000, num = 15)]\n",
    "\n",
    "# Number of features to consider at every split\n",
    "max_features = ['auto', 'sqrt','log2']\n",
    "\n",
    "# Maximum number of levels in tree\n",
    "max_depth = [int(x) for x in np.linspace(2, 100, num = 10)]\n",
    "max_depth.append(None)\n",
    "\n",
    "# Minimum number of samples required to split a node\n",
    "min_samples_split = [2, 5, 10]\n",
    "\n",
    "# Minimum number of samples required at each leaf node\n",
    "min_samples_leaf = [1, 2, 4]\n",
    "\n",
    "# Method of selecting samples for training each tree\n",
    "bootstrap = [True, False]\n",
    "\n",
    "# Create the random grid\n",
    "random_grid = {'n_estimators': n_estimators,\n",
    "               'max_features': max_features,\n",
    "               'max_depth': max_depth,\n",
    "               'min_samples_split': min_samples_split,\n",
    "               'min_samples_leaf': min_samples_leaf,\n",
    "               'bootstrap': bootstrap}\n",
    "\n",
    "print(random_grid)\n",
    "\n",
    "\n",
    "from sklearn.model_selection import RandomizedSearchCV\n",
    "\n",
    "# Use the random grid to search for best hyperparameters\n",
    "rf = RandomForestClassifier()\n",
    "\n",
    "# Random search of parameters, using 3 fold cross validation, \n",
    "# search across 100 different combinations, and use all available cores\n",
    "rf_random = RandomizedSearchCV(estimator = rf, \n",
    "                               param_distributions = random_grid, \n",
    "                               n_iter = 10, cv = 3, verbose=3, random_state=1, n_jobs = -1)\n",
    "\n",
    "rf_random.fit(X_train, y_train)\n",
    "\n",
    "rf_best = rf_random.best_estimator_\n",
    "\n",
    "y_pred = rf_best.predict(X_test)\n",
    "print(metrics.classification_report(y_test, y_pred))\n",
    "\n",
    "### F1 score: 79%\n",
    "\n"
   ]
  },
  {
   "cell_type": "code",
   "execution_count": 228,
   "metadata": {},
   "outputs": [
    {
     "name": "stdout",
     "output_type": "stream",
     "text": [
      "Index(['gender', 'SeniorCitizen', 'Partner', 'Dependents', 'tenure',\n",
      "       'PhoneService', 'MultipleLines', 'InternetService', 'OnlineSecurity',\n",
      "       'OnlineBackup', 'DeviceProtection', 'TechSupport', 'StreamingTV',\n",
      "       'StreamingMovies', 'Contract', 'PaperlessBilling', 'PaymentMethod',\n",
      "       'MonthlyCharges'],\n",
      "      dtype='object')\n",
      "[ 0.02230367  0.02361511  0.01825075  0.01741022  0.25509525  0.00701686\n",
      "  0.01904451  0.06157091  0.02808663  0.02025751  0.01462978  0.02720368\n",
      "  0.01609191  0.01783702  0.16698892  0.03717886  0.06057417  0.18684424]\n"
     ]
    }
   ],
   "source": [
    "# Extract the feature importances using .feature_importances_ \n",
    "importances = rf_best.feature_importances_\n",
    "print(X_train.columns)\n",
    "print(importances)"
   ]
  },
  {
   "cell_type": "code",
   "execution_count": 227,
   "metadata": {},
   "outputs": [
    {
     "name": "stdout",
     "output_type": "stream",
     "text": [
      "Feature ranking:\n",
      "1. feature 4 (0.255095)\n",
      "2. feature 17 (0.186844)\n",
      "3. feature 14 (0.166989)\n",
      "4. feature 7 (0.061571)\n",
      "5. feature 16 (0.060574)\n",
      "6. feature 15 (0.037179)\n",
      "7. feature 8 (0.028087)\n",
      "8. feature 11 (0.027204)\n",
      "9. feature 1 (0.023615)\n",
      "10. feature 0 (0.022304)\n",
      "11. feature 9 (0.020258)\n",
      "12. feature 6 (0.019045)\n",
      "13. feature 2 (0.018251)\n",
      "14. feature 13 (0.017837)\n",
      "15. feature 3 (0.017410)\n",
      "16. feature 12 (0.016092)\n",
      "17. feature 10 (0.014630)\n",
      "18. feature 5 (0.007017)\n"
     ]
    },
    {
     "data": {
      "image/png": "[encoded data removed]",
      "text/plain": [
       "<matplotlib.figure.Figure at 0x149aaab39e8>"
      ]
     },
     "metadata": {},
     "output_type": "display_data"
    }
   ],
   "source": [
    "# Print the feature ranking\n",
    "std = np.std([tree.feature_importances_ for tree in rf_best.estimators_],\n",
    "             axis=0)\n",
    "indices = np.argsort(importances)[::-1]\n",
    "\n",
    "print(\"Feature ranking:\")\n",
    "\n",
    "for f in range(X_train.shape[1]):\n",
    "    print(\"%d. feature %d (%f)\" % (f + 1, indices[f], importances[indices[f]]))\n",
    "\n",
    "# Plot the feature importances of the forest\n",
    "plt.figure()\n",
    "plt.title(\"Feature importances\")\n",
    "plt.bar(range(X_train.shape[1]), importances[indices],\n",
    "       color=\"r\", yerr=std[indices], align=\"center\")\n",
    "plt.xticks(range(X_train.shape[1]), indices)\n",
    "plt.xlim([-1, X_train.shape[1]])\n",
    "plt.show()"
   ]
  },
  {
   "cell_type": "markdown",
   "metadata": {},
   "source": [
    "From the graph, we learn that the 'MonthlyCharges', 'tenure','Contract', and 'Payment Method'  are the key features that has the most importance on the whether or not customers will leave."
   ]
  },
  {
   "cell_type": "code",
   "execution_count": 219,
   "metadata": {},
   "outputs": [
    {
     "name": "stdout",
     "output_type": "stream",
     "text": [
      "[[ 0.02175347  0.35319102  0.09135119 -0.2558159  -0.03694314 -1.17115431\n",
      "   0.16724972  0.03363861 -0.48523916 -0.35599761 -0.06627493 -0.54627685\n",
      "  -0.05007318 -0.0099329  -0.70010775  0.47396135  0.06278018  0.03429433]]\n",
      "             precision    recall  f1-score   support\n",
      "\n",
      "         No       0.84      0.89      0.87      1555\n",
      "        Yes       0.64      0.53      0.58       555\n",
      "\n",
      "avg / total       0.79      0.80      0.79      2110\n",
      "\n"
     ]
    }
   ],
   "source": [
    "#Logistic Regression\n",
    "from sklearn.feature_selection import RFE\n",
    "logreg = LogisticRegression()\n",
    "logreg.fit(X_train, y_train)\n",
    "print(logreg.coef_)\n",
    "y_pred3 = logreg.predict(X_test)\n",
    "logreg.score(X_test, y_test) \n",
    "print(metrics.classification_report(y_test, y_pred3))\n",
    "\n",
    "###F1 score: 79%"
   ]
  },
  {
   "cell_type": "code",
   "execution_count": null,
   "metadata": {},
   "outputs": [],
   "source": [
    "from sklearn.ensemble import AdaBoostClassifier\n",
    "from sklearn.tree import DecisionTreeClassifier\n",
    "\n",
    "# Create and fit an AdaBoosted decision tree\n",
    "bdt = AdaBoostClassifier(DecisionTreeClassifier(max_depth=3),\n",
    "                         algorithm=\"SAMME\",\n",
    "                         n_estimators=1000,\n",
    "                         learning_rate=2)\n",
    "\n",
    "bdt.fit(X_train, y_train)\n",
    "y_pred4 = bdt.predict(X_test)\n",
    "y_pred_prob = bdt.predict_proba(X_test)\n",
    "y_pred_prob = [i[1] for i in y_pred_prob]\n",
    "\n",
    "print(metrics.classification_report(y_test, y_pred4))\n"
   ]
  },
  {
   "cell_type": "code",
   "execution_count": null,
   "metadata": {
    "collapsed": true
   },
   "outputs": [],
   "source": [
    "from sklearn.tree import DecisionTreeClassifier\n",
    "dtree=DecisionTreeClassifier()\n",
    "dtree.fit(X,Y)\n",
    "\n",
    "from sklearn.externals.six import StringIO  \n",
    "from IPython.display import Image  \n",
    "from sklearn.tree import export_graphviz\n",
    "import pydotplus\n",
    "dot_data = StringIO()\n",
    "export_graphviz(dtree, out_file=dot_data,  \n",
    "                filled=True, rounded=True,\n",
    "                special_characters=True)\n",
    "graph = pydotplus.graph_from_dot_data(dot_data.getvalue())  \n",
    "Image(graph.create_png())"
   ]
  }
 ],
 "metadata": {
  "kernelspec": {
   "display_name": "Python 3",
   "language": "python",
   "name": "python3"
  },
  "language_info": {
   "codemirror_mode": {
    "name": "ipython",
    "version": 3
   },
   "file_extension": ".py",
   "mimetype": "text/x-python",
   "name": "python",
   "nbconvert_exporter": "python",
   "pygments_lexer": "ipython3",
   "version": "3.6.3"
  }
 },
 "nbformat": 4,
 "nbformat_minor": 2
}
